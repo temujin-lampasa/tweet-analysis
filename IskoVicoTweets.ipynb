{
 "cells": [
  {
   "cell_type": "markdown",
   "metadata": {},
   "source": [
    "# Title: Analysis of tweets by V̵̢̨͖̋͆̈́̽̿̕ḯ̶̡̜͔̩̰̠̬̰̖͉̱͎̼̌͂c̷͓͓̤̩̺̀̓ỏ̸̧͓̙͎͖͇͍̎͂̏́̀̆͋̎̕͝͝ ̵̫̪͍̟͖͓̹̟̋̾̊̾͛̄̈̿̿̇̿͛̔͐̚Ș̶̳͍̒́̋̊o̴̺͖̝͎̯̬̥̓̂̔̓̅̇͜͠ẗ̵͉̗̜̎̽̎̂̓̿̕͜t̷̡̲̞͈͖̋ǫ̵͈̫̫͘͜ ̷̦̱̥̰͚̜̼͎͎̿̎̒̏̔̏͐̆͂͂͋̕̚̚͝a̶̮̜͑̀͂̄̏̌̏́̎͛͋͗͝͝n̶̡̉͆d̵͔͉͔͍̜̠͍̪̖̖͚̼̋̕ͅ ̵̢̪̤̲͎̘͈̳̪͚̜͍̝̝̟͋͑͂͌̈́͗̈͐̔͘I̶̢̮̜̩̼̥͕̺̰͖̗̩͍͆̄́̚s̵̢̨͍͕̙̱͈̲͈̠̭̦͖̟̎́̉k̶͎̯̲͔͇͌͛́̕ͅơ̸̥͈̺̭͙̘̘͔̻̒̾̎̔͛̒͐̚͘̕͜ ̸̧͍̩̭̫͙̦̘̤̖̹̺̯͌̓͒̌̎̒̋́̾̅͜M̵͙̖̘̦̟̩̘̭̋̊̃̍̏̿ͅö̸̟̮̮̩͕́̾́̈́̃͜͜r̶̨̡̛̘̬̖̥͕̞͎͙͎̊̇͗͛͊͆͜e̵͓̹͍̭̪͔͊͜͠ṉ̸̡̨̛͕̦̲̈́̅̔̅̆́̅̋͝o̷̢̳̝̞̝̘͍͉̮̚\n",
    "\n",
    "\n",
    "We train a classifier to distinguish between the tweets of Vico Sotto and Isko Moreno and find the most probable and least probable tweets of each person.\n",
    "\n",
    "- Based on the article https://towardsdatascience.com/twitter-api-and-nlp-7a386758eb31"
   ]
  },
  {
   "cell_type": "markdown",
   "metadata": {},
   "source": [
    "# Setup"
   ]
  },
  {
   "cell_type": "code",
   "execution_count": 1,
   "metadata": {},
   "outputs": [],
   "source": [
    "!pip install -q tweepy pandas numpy sklearn nltk gensim ipython-secrets"
   ]
  },
  {
   "cell_type": "code",
   "execution_count": 2,
   "metadata": {},
   "outputs": [
    {
     "name": "stderr",
     "output_type": "stream",
     "text": [
      "[nltk_data] Downloading package stopwords to /Users/TL/nltk_data...\n",
      "[nltk_data]   Package stopwords is already up-to-date!\n"
     ]
    }
   ],
   "source": [
    "import pandas as pd\n",
    "import numpy as np\n",
    "import matplotlib.pyplot as plt\n",
    "import matplotlib.dates as mdates\n",
    "from datetime import datetime\n",
    "\n",
    "from sklearn.model_selection import train_test_split\n",
    "from sklearn.linear_model import LogisticRegression\n",
    "\n",
    "import tweepy\n",
    "import sys\n",
    "\n",
    "import re\n",
    "import nltk\n",
    "from nltk.corpus import stopwords\n",
    "from gensim.models import Word2Vec\n",
    "\n",
    "from ipython_secrets import *\n",
    "import warnings\n",
    "warnings.filterwarnings(\"ignore\")\n",
    "\n",
    "nltk.download(\"stopwords\")\n",
    "\n",
    "SEED = 42"
   ]
  },
  {
   "cell_type": "markdown",
   "metadata": {},
   "source": [
    "# Data Collection\n",
    "\n",
    "Collect all tweets posted by Vico Sotto and Isko Moreno."
   ]
  },
  {
   "cell_type": "code",
   "execution_count": 3,
   "metadata": {
    "id": "UyCyQiSllmVm"
   },
   "outputs": [],
   "source": [
    "#https://docs.tweepy.org/en/latest/getting_started.html\n",
    "\n",
    "consumer_key = get_secret('CONSUMER_KEY')\n",
    "consumer_secret = get_secret('CONSUMER_SECRET')\n",
    "access_token = get_secret('ACCESS_TOKEN')\n",
    "access_token_secret = get_secret('ACCESS_TOKEN_SECRET')\n",
    "\n",
    "auth = tweepy.OAuthHandler(consumer_key, consumer_secret)\n",
    "auth.set_access_token(access_token, access_token_secret)\n",
    "\n",
    "api = tweepy.API(auth)"
   ]
  },
  {
   "cell_type": "code",
   "execution_count": 4,
   "metadata": {
    "colab": {
     "base_uri": "https://localhost:8080/"
    },
    "id": "AqCqdv4Op4O2",
    "outputId": "1baa44f9-c9a4-4642-b527-1b76eed86bee",
    "tags": []
   },
   "outputs": [
    {
     "name": "stdout",
     "output_type": "stream",
     "text": [
      "N of tweets of vicosotto downloaded: 177\n",
      "N of tweets of vicosotto downloaded: 361\n",
      "N of tweets of vicosotto downloaded: 552\n",
      "N of tweets of vicosotto downloaded: 731\n",
      "N of tweets of vicosotto downloaded: 919\n",
      "N of tweets of vicosotto downloaded: 1104\n",
      "N of tweets of vicosotto downloaded: 1286\n",
      "N of tweets of vicosotto downloaded: 1472\n",
      "N of tweets of vicosotto downloaded: 1657\n",
      "N of tweets of vicosotto downloaded: 1821\n",
      "N of tweets of vicosotto downloaded: 1994\n",
      "N of tweets of vicosotto downloaded: 2177\n",
      "N of tweets of vicosotto downloaded: 2360\n",
      "N of tweets of vicosotto downloaded: 2540\n",
      "N of tweets of vicosotto downloaded: 2730\n",
      "N of tweets of vicosotto downloaded: 2926\n",
      "N of tweets of vicosotto downloaded: 2979\n",
      "N of tweets of iskomoreno downloaded: 178\n",
      "N of tweets of iskomoreno downloaded: 319\n",
      "N of tweets of iskomoreno downloaded: 466\n",
      "N of tweets of iskomoreno downloaded: 614\n",
      "N of tweets of iskomoreno downloaded: 773\n",
      "N of tweets of iskomoreno downloaded: 917\n",
      "N of tweets of iskomoreno downloaded: 1054\n",
      "N of tweets of iskomoreno downloaded: 1172\n",
      "N of tweets of iskomoreno downloaded: 1280\n",
      "N of tweets of iskomoreno downloaded: 1392\n",
      "N of tweets of iskomoreno downloaded: 1522\n",
      "N of tweets of iskomoreno downloaded: 1673\n",
      "N of tweets of iskomoreno downloaded: 1866\n",
      "N of tweets of iskomoreno downloaded: 1872\n"
     ]
    }
   ],
   "source": [
    "#https://fairyonice.github.io/extract-someones-tweet-using-tweepy.html\n",
    "vico_id = 'vicosotto'\n",
    "isko_id = 'iskomoreno'\n",
    "\n",
    "def get_tweets_of(id):\n",
    "  all_tweets = []\n",
    "  oldest_id = sys.maxsize\n",
    "  while True:\n",
    "    #https://stackoverflow.com/questions/7604966/maximum-and-minimum-values-for-ints\n",
    "    tweets =  api.user_timeline(screen_name=id, \n",
    "                            # 200 is the maximum allowed count\n",
    "                            count=200,\n",
    "                            include_rts = False,\n",
    "                            max_id = oldest_id - 1,\n",
    "                            # Necessary to keep full_text \n",
    "                            # otherwise only the first 140 words are extracted\n",
    "                            tweet_mode = 'extended'\n",
    "                            )\n",
    "    if len(tweets) == 0:\n",
    "        break\n",
    "    oldest_id = tweets[-1].id\n",
    "    all_tweets.extend(tweets)\n",
    "    print('N of tweets of {} downloaded: {}'.format(id, len(all_tweets)))\n",
    "  return all_tweets\n",
    "  \n",
    "vico_tweets = get_tweets_of(vico_id)\n",
    "isko_tweets = get_tweets_of(isko_id)"
   ]
  },
  {
   "cell_type": "code",
   "execution_count": 5,
   "metadata": {
    "id": "CxFLgTUycCEw"
   },
   "outputs": [],
   "source": [
    "def save_tweets(tweets, userID):\n",
    "  outtweets = [[tweet.id_str, \n",
    "                tweet.created_at, \n",
    "                tweet.favorite_count, \n",
    "                tweet.retweet_count, \n",
    "                tweet.full_text.encode(\"utf-8\").decode(\"utf-8\")] \n",
    "              for idx,tweet in enumerate(tweets)]\n",
    "  df = pd.DataFrame(outtweets,columns=[\"id\",\"created_at\",\"favorite_count\",\"retweet_count\", \"text\"])\n",
    "  df.to_csv('data/%s_tweets.csv' % userID,index=False)\n",
    "  df.head(3)\n",
    "\n",
    "save_tweets(isko_tweets, 'isko')\n",
    "save_tweets(vico_tweets, 'vico')"
   ]
  },
  {
   "cell_type": "markdown",
   "metadata": {},
   "source": [
    "# Data Preprocessing and Visualization"
   ]
  },
  {
   "cell_type": "markdown",
   "metadata": {},
   "source": [
    "### Reading the dataset"
   ]
  },
  {
   "cell_type": "code",
   "execution_count": 6,
   "metadata": {
    "colab": {
     "base_uri": "https://localhost:8080/",
     "height": 164
    },
    "id": "9lG-t_OkeU7X",
    "outputId": "041635a5-0eed-4b96-fe1d-61f471457866"
   },
   "outputs": [],
   "source": [
    "# Combine into a single dataframe\n",
    "isko_tweets = pd.read_csv(\"data/isko_tweets.csv\")\n",
    "vico_tweets = pd.read_csv(\"data/vico_tweets.csv\")\n",
    "isko_tweets['target'] = 'isko'\n",
    "vico_tweets['target'] = 'vico'\n",
    "\n",
    "df = pd.concat([isko_tweets, vico_tweets]).reset_index(drop=True)"
   ]
  },
  {
   "cell_type": "code",
   "execution_count": 7,
   "metadata": {},
   "outputs": [
    {
     "data": {
      "text/html": [
       "<div>\n",
       "<style scoped>\n",
       "    .dataframe tbody tr th:only-of-type {\n",
       "        vertical-align: middle;\n",
       "    }\n",
       "\n",
       "    .dataframe tbody tr th {\n",
       "        vertical-align: top;\n",
       "    }\n",
       "\n",
       "    .dataframe thead th {\n",
       "        text-align: right;\n",
       "    }\n",
       "</style>\n",
       "<table border=\"1\" class=\"dataframe\">\n",
       "  <thead>\n",
       "    <tr style=\"text-align: right;\">\n",
       "      <th></th>\n",
       "      <th>id</th>\n",
       "      <th>created_at</th>\n",
       "      <th>favorite_count</th>\n",
       "      <th>retweet_count</th>\n",
       "      <th>text</th>\n",
       "      <th>target</th>\n",
       "    </tr>\n",
       "  </thead>\n",
       "  <tbody>\n",
       "    <tr>\n",
       "      <th>0</th>\n",
       "      <td>1378377149179076612</td>\n",
       "      <td>2021-04-03 16:01:36</td>\n",
       "      <td>710</td>\n",
       "      <td>105</td>\n",
       "      <td>He is Risen!\\n\\nNgayong araw, ika-4 ng Abril a...</td>\n",
       "      <td>isko</td>\n",
       "    </tr>\n",
       "    <tr>\n",
       "      <th>1</th>\n",
       "      <td>1378343476744450049</td>\n",
       "      <td>2021-04-03 13:47:47</td>\n",
       "      <td>110</td>\n",
       "      <td>16</td>\n",
       "      <td>Narito po ang vaccination sites natin para buk...</td>\n",
       "      <td>isko</td>\n",
       "    </tr>\n",
       "    <tr>\n",
       "      <th>2</th>\n",
       "      <td>1378225883836686339</td>\n",
       "      <td>2021-04-03 06:00:31</td>\n",
       "      <td>100</td>\n",
       "      <td>16</td>\n",
       "      <td>COVID-19 MONITORING: Latest coronavirus data i...</td>\n",
       "      <td>isko</td>\n",
       "    </tr>\n",
       "    <tr>\n",
       "      <th>3</th>\n",
       "      <td>1378015132547117058</td>\n",
       "      <td>2021-04-02 16:03:04</td>\n",
       "      <td>360</td>\n",
       "      <td>29</td>\n",
       "      <td>Sama-sama po nating gunitain ngayong araw, ika...</td>\n",
       "      <td>isko</td>\n",
       "    </tr>\n",
       "    <tr>\n",
       "      <th>4</th>\n",
       "      <td>1377863484784844802</td>\n",
       "      <td>2021-04-02 06:00:28</td>\n",
       "      <td>69</td>\n",
       "      <td>8</td>\n",
       "      <td>COVID-19 MONITORING: Latest coronavirus data i...</td>\n",
       "      <td>isko</td>\n",
       "    </tr>\n",
       "  </tbody>\n",
       "</table>\n",
       "</div>"
      ],
      "text/plain": [
       "                    id           created_at  favorite_count  retweet_count  \\\n",
       "0  1378377149179076612  2021-04-03 16:01:36             710            105   \n",
       "1  1378343476744450049  2021-04-03 13:47:47             110             16   \n",
       "2  1378225883836686339  2021-04-03 06:00:31             100             16   \n",
       "3  1378015132547117058  2021-04-02 16:03:04             360             29   \n",
       "4  1377863484784844802  2021-04-02 06:00:28              69              8   \n",
       "\n",
       "                                                text target  \n",
       "0  He is Risen!\\n\\nNgayong araw, ika-4 ng Abril a...   isko  \n",
       "1  Narito po ang vaccination sites natin para buk...   isko  \n",
       "2  COVID-19 MONITORING: Latest coronavirus data i...   isko  \n",
       "3  Sama-sama po nating gunitain ngayong araw, ika...   isko  \n",
       "4  COVID-19 MONITORING: Latest coronavirus data i...   isko  "
      ]
     },
     "execution_count": 7,
     "metadata": {},
     "output_type": "execute_result"
    }
   ],
   "source": [
    "df.head()"
   ]
  },
  {
   "cell_type": "code",
   "execution_count": 8,
   "metadata": {},
   "outputs": [
    {
     "data": {
      "text/html": [
       "<div>\n",
       "<style scoped>\n",
       "    .dataframe tbody tr th:only-of-type {\n",
       "        vertical-align: middle;\n",
       "    }\n",
       "\n",
       "    .dataframe tbody tr th {\n",
       "        vertical-align: top;\n",
       "    }\n",
       "\n",
       "    .dataframe thead th {\n",
       "        text-align: right;\n",
       "    }\n",
       "</style>\n",
       "<table border=\"1\" class=\"dataframe\">\n",
       "  <thead>\n",
       "    <tr style=\"text-align: right;\">\n",
       "      <th></th>\n",
       "      <th>id</th>\n",
       "      <th>created_at</th>\n",
       "      <th>favorite_count</th>\n",
       "      <th>retweet_count</th>\n",
       "      <th>text</th>\n",
       "      <th>target</th>\n",
       "    </tr>\n",
       "  </thead>\n",
       "  <tbody>\n",
       "    <tr>\n",
       "      <th>4846</th>\n",
       "      <td>698851743119970304</td>\n",
       "      <td>2016-02-14 12:50:14</td>\n",
       "      <td>15</td>\n",
       "      <td>0</td>\n",
       "      <td>@MCRosalie_716 Hmm babae si Ate Mons. Haha.</td>\n",
       "      <td>vico</td>\n",
       "    </tr>\n",
       "    <tr>\n",
       "      <th>4847</th>\n",
       "      <td>698851507060346880</td>\n",
       "      <td>2016-02-14 12:49:17</td>\n",
       "      <td>1</td>\n",
       "      <td>0</td>\n",
       "      <td>@marieten09 First</td>\n",
       "      <td>vico</td>\n",
       "    </tr>\n",
       "    <tr>\n",
       "      <th>4848</th>\n",
       "      <td>698851420171161600</td>\n",
       "      <td>2016-02-14 12:48:57</td>\n",
       "      <td>4</td>\n",
       "      <td>1</td>\n",
       "      <td>@24Cheanne Hi lang!</td>\n",
       "      <td>vico</td>\n",
       "    </tr>\n",
       "    <tr>\n",
       "      <th>4849</th>\n",
       "      <td>698851295847821313</td>\n",
       "      <td>2016-02-14 12:48:27</td>\n",
       "      <td>6</td>\n",
       "      <td>1</td>\n",
       "      <td>@Msaflowering Happy Valentine's Day!</td>\n",
       "      <td>vico</td>\n",
       "    </tr>\n",
       "    <tr>\n",
       "      <th>4850</th>\n",
       "      <td>698850069638819840</td>\n",
       "      <td>2016-02-14 12:43:35</td>\n",
       "      <td>98</td>\n",
       "      <td>28</td>\n",
       "      <td>JGH fr my Valentines date.. TALAKAYAN kasama s...</td>\n",
       "      <td>vico</td>\n",
       "    </tr>\n",
       "  </tbody>\n",
       "</table>\n",
       "</div>"
      ],
      "text/plain": [
       "                      id           created_at  favorite_count  retweet_count  \\\n",
       "4846  698851743119970304  2016-02-14 12:50:14              15              0   \n",
       "4847  698851507060346880  2016-02-14 12:49:17               1              0   \n",
       "4848  698851420171161600  2016-02-14 12:48:57               4              1   \n",
       "4849  698851295847821313  2016-02-14 12:48:27               6              1   \n",
       "4850  698850069638819840  2016-02-14 12:43:35              98             28   \n",
       "\n",
       "                                                   text target  \n",
       "4846        @MCRosalie_716 Hmm babae si Ate Mons. Haha.   vico  \n",
       "4847                                  @marieten09 First   vico  \n",
       "4848                                @24Cheanne Hi lang!   vico  \n",
       "4849               @Msaflowering Happy Valentine's Day!   vico  \n",
       "4850  JGH fr my Valentines date.. TALAKAYAN kasama s...   vico  "
      ]
     },
     "execution_count": 8,
     "metadata": {},
     "output_type": "execute_result"
    }
   ],
   "source": [
    "df.tail()"
   ]
  },
  {
   "cell_type": "markdown",
   "metadata": {},
   "source": [
    "### Dataset columns:\n",
    "* `id`: Unique identifier for the tweet\n",
    "* `created_at`: Date at which the tweet was posted\n",
    "* `favorite_count`: Number of favorites\n",
    "* `retweet_count`: Number of retweets\n",
    "* `text`: Text of the tweet"
   ]
  },
  {
   "cell_type": "markdown",
   "metadata": {},
   "source": [
    "### Exploring the Data"
   ]
  },
  {
   "cell_type": "markdown",
   "metadata": {},
   "source": [
    "**Check the size of the dataset:**"
   ]
  },
  {
   "cell_type": "code",
   "execution_count": 9,
   "metadata": {},
   "outputs": [
    {
     "data": {
      "text/plain": [
       "(4851, 6)"
      ]
     },
     "execution_count": 9,
     "metadata": {},
     "output_type": "execute_result"
    }
   ],
   "source": [
    "df.shape"
   ]
  },
  {
   "cell_type": "markdown",
   "metadata": {},
   "source": [
    "**Number of tweets by each author:**"
   ]
  },
  {
   "cell_type": "code",
   "execution_count": 10,
   "metadata": {},
   "outputs": [
    {
     "data": {
      "text/plain": [
       "vico    2979\n",
       "isko    1872\n",
       "Name: target, dtype: int64"
      ]
     },
     "execution_count": 10,
     "metadata": {},
     "output_type": "execute_result"
    }
   ],
   "source": [
    "df['target'].value_counts()"
   ]
  },
  {
   "cell_type": "markdown",
   "metadata": {},
   "source": [
    "**Check for duplicates:**"
   ]
  },
  {
   "cell_type": "code",
   "execution_count": 11,
   "metadata": {},
   "outputs": [
    {
     "data": {
      "text/plain": [
       "False    4851\n",
       "dtype: int64"
      ]
     },
     "execution_count": 11,
     "metadata": {},
     "output_type": "execute_result"
    }
   ],
   "source": [
    "df.duplicated().value_counts()"
   ]
  },
  {
   "cell_type": "markdown",
   "metadata": {},
   "source": [
    "**Check for null values:**"
   ]
  },
  {
   "cell_type": "code",
   "execution_count": 12,
   "metadata": {},
   "outputs": [
    {
     "name": "stdout",
     "output_type": "stream",
     "text": [
      "<class 'pandas.core.frame.DataFrame'>\n",
      "RangeIndex: 4851 entries, 0 to 4850\n",
      "Data columns (total 6 columns):\n",
      " #   Column          Non-Null Count  Dtype \n",
      "---  ------          --------------  ----- \n",
      " 0   id              4851 non-null   int64 \n",
      " 1   created_at      4851 non-null   object\n",
      " 2   favorite_count  4851 non-null   int64 \n",
      " 3   retweet_count   4851 non-null   int64 \n",
      " 4   text            4851 non-null   object\n",
      " 5   target          4851 non-null   object\n",
      "dtypes: int64(3), object(3)\n",
      "memory usage: 227.5+ KB\n"
     ]
    }
   ],
   "source": [
    "df.info(show_counts=True)"
   ]
  },
  {
   "cell_type": "markdown",
   "metadata": {},
   "source": [
    "### Tweet Distribution by Date"
   ]
  },
  {
   "cell_type": "code",
   "execution_count": 13,
   "metadata": {},
   "outputs": [
    {
     "data": {
      "text/plain": [
       "[]"
      ]
     },
     "execution_count": 13,
     "metadata": {},
     "output_type": "execute_result"
    },
    {
     "data": {
      "image/png": "[encoded data removed]",
      "text/plain": [
       "<Figure size 1152x576 with 1 Axes>"
      ]
     },
     "metadata": {
      "needs_background": "light"
     },
     "output_type": "display_data"
    }
   ],
   "source": [
    "# Distribution of tweets by Vico Sotto\n",
    "vico_tweet_counts = vico_tweets['created_at']\n",
    "vico_tweet_counts.index = pd.to_datetime(vico_tweet_counts.apply(lambda x: x.split()[0]))\n",
    "vico_tweet_counts = vico_tweet_counts.groupby(by=vico_tweet_counts.index).count()\n",
    "\n",
    "# Distribution of tweets by Isko Moreno\n",
    "isko_tweet_counts = isko_tweets['created_at']\n",
    "isko_tweet_counts.index = pd.to_datetime(isko_tweet_counts.apply(lambda x: x.split()[0]))\n",
    "isko_tweet_counts = isko_tweet_counts.groupby(by=isko_tweet_counts.index).count()\n",
    "\n",
    "fig, ax = plt.subplots(figsize=(16, 8))\n",
    "plt.plot(vico_tweet_counts.index.to_pydatetime(), vico_tweet_counts.values, c='r', label='vico', alpha=0.8)\n",
    "plt.plot(isko_tweet_counts.index.to_pydatetime(), isko_tweet_counts.values, c='b', label='isko', alpha=0.8)\n",
    "plt.legend()\n",
    "plt.plot()"
   ]
  },
  {
   "cell_type": "markdown",
   "metadata": {},
   "source": [
    "This tells us that Vico Sotto has been active on twitter for over two years longer than Isko Moreno.\n"
   ]
  },
  {
   "cell_type": "markdown",
   "metadata": {},
   "source": [
    "**Which days had the most tweets?**"
   ]
  },
  {
   "cell_type": "markdown",
   "metadata": {},
   "source": [
    "**Vico Sotto**"
   ]
  },
  {
   "cell_type": "code",
   "execution_count": 14,
   "metadata": {},
   "outputs": [
    {
     "name": "stdout",
     "output_type": "stream",
     "text": [
      "27\n",
      "2017-11-15 00:00:00\n"
     ]
    }
   ],
   "source": [
    "print(vico_tweet_counts[np.argmax(vico_tweet_counts)])\n",
    "print(vico_tweet_counts.index[np.argmax(vico_tweet_counts)])"
   ]
  },
  {
   "cell_type": "markdown",
   "metadata": {},
   "source": [
    "**Vico made 27 tweets on November 15, 2017.**"
   ]
  },
  {
   "cell_type": "code",
   "execution_count": 15,
   "metadata": {
    "tags": []
   },
   "outputs": [
    {
     "data": {
      "text/html": [
       "<div>\n",
       "<style scoped>\n",
       "    .dataframe tbody tr th:only-of-type {\n",
       "        vertical-align: middle;\n",
       "    }\n",
       "\n",
       "    .dataframe tbody tr th {\n",
       "        vertical-align: top;\n",
       "    }\n",
       "\n",
       "    .dataframe thead th {\n",
       "        text-align: right;\n",
       "    }\n",
       "</style>\n",
       "<table border=\"1\" class=\"dataframe\">\n",
       "  <thead>\n",
       "    <tr style=\"text-align: right;\">\n",
       "      <th></th>\n",
       "      <th>id</th>\n",
       "      <th>created_at</th>\n",
       "      <th>favorite_count</th>\n",
       "      <th>retweet_count</th>\n",
       "      <th>text</th>\n",
       "      <th>target</th>\n",
       "    </tr>\n",
       "  </thead>\n",
       "  <tbody>\n",
       "    <tr>\n",
       "      <th>1999</th>\n",
       "      <td>930816026660368384</td>\n",
       "      <td>2017-11-15 15:13:29</td>\n",
       "      <td>5</td>\n",
       "      <td>0</td>\n",
       "      <td>@JasmineAlmira ⚪⚪⚪⚪⚪⚪⚪\\n⚪⚪⚪⚪⚪⚪⚪\\n⚪⚪⚪🔵❤️⚪⚪\\n⚪⚪⚪...</td>\n",
       "      <td>vico</td>\n",
       "    </tr>\n",
       "    <tr>\n",
       "      <th>2000</th>\n",
       "      <td>930813337666859008</td>\n",
       "      <td>2017-11-15 15:02:48</td>\n",
       "      <td>26</td>\n",
       "      <td>0</td>\n",
       "      <td>NO CHEATING NAMAN https://t.co/jpnDlC2unK</td>\n",
       "      <td>vico</td>\n",
       "    </tr>\n",
       "    <tr>\n",
       "      <th>2001</th>\n",
       "      <td>930813128740298752</td>\n",
       "      <td>2017-11-15 15:01:58</td>\n",
       "      <td>2</td>\n",
       "      <td>0</td>\n",
       "      <td>@JasmineAlmira ⚪⚪⚪⚪⚪⚪⚪\\n⚪⚪⚪⚪⚪⚪⚪\\n⚪⚪⚪🔵⚪⚪⚪\\n⚪⚪⚪🔴...</td>\n",
       "      <td>vico</td>\n",
       "    </tr>\n",
       "    <tr>\n",
       "      <th>2002</th>\n",
       "      <td>930808788277280769</td>\n",
       "      <td>2017-11-15 14:44:43</td>\n",
       "      <td>0</td>\n",
       "      <td>0</td>\n",
       "      <td>@JasmineAlmira ⚪⚪⚪⚪⚪⚪⚪\\n⚪⚪⚪⚪⚪⚪⚪\\n⚪⚪⚪⚪⚪⚪⚪\\n⚪⚪⚪🔴...</td>\n",
       "      <td>vico</td>\n",
       "    </tr>\n",
       "    <tr>\n",
       "      <th>2003</th>\n",
       "      <td>930808309044486145</td>\n",
       "      <td>2017-11-15 14:42:49</td>\n",
       "      <td>0</td>\n",
       "      <td>0</td>\n",
       "      <td>@JasmineAlmira ⚪⚪⚪⚪⚪⚪⚪\\n⚪⚪⚪⚪⚪⚪⚪\\n⚪⚪⚪⚪⚪⚪⚪\\n⚪⚪⚪⚪...</td>\n",
       "      <td>vico</td>\n",
       "    </tr>\n",
       "    <tr>\n",
       "      <th>2004</th>\n",
       "      <td>930807677705363457</td>\n",
       "      <td>2017-11-15 14:40:18</td>\n",
       "      <td>0</td>\n",
       "      <td>0</td>\n",
       "      <td>@JasmineAlmira ⚪⚪⚪⚪⚪⚪⚪\\n⚪⚪⚪⚪⚪⚪⚪\\n⚪⚪⚪⚪⚪⚪⚪\\n⚪⚪⚪⚪...</td>\n",
       "      <td>vico</td>\n",
       "    </tr>\n",
       "    <tr>\n",
       "      <th>2005</th>\n",
       "      <td>930806637958283264</td>\n",
       "      <td>2017-11-15 14:36:10</td>\n",
       "      <td>2</td>\n",
       "      <td>1</td>\n",
       "      <td>@iMarkTiczon 🔵⚪⚪🔴⚪⚪⚪&amp;lt;\\n🔴⚪🔴🔴🔴⚪⚪&amp;lt;\\n🔵🔴🔵🔴🔵⚪⚪...</td>\n",
       "      <td>vico</td>\n",
       "    </tr>\n",
       "    <tr>\n",
       "      <th>2006</th>\n",
       "      <td>930805765681463297</td>\n",
       "      <td>2017-11-15 14:32:42</td>\n",
       "      <td>0</td>\n",
       "      <td>0</td>\n",
       "      <td>@JasmineAlmira ⚪⚪⚪⚪⚪⚪⚪\\n⚪⚪⚪⚪⚪⚪⚪\\n⚪⚪⚪⚪⚪⚪⚪\\n⚪⚪⚪⚪...</td>\n",
       "      <td>vico</td>\n",
       "    </tr>\n",
       "    <tr>\n",
       "      <th>2007</th>\n",
       "      <td>930805553709723648</td>\n",
       "      <td>2017-11-15 14:31:52</td>\n",
       "      <td>0</td>\n",
       "      <td>0</td>\n",
       "      <td>@iMarkTiczon 🔵⚪⚪🔴⚪⚪⚪\\n🔴⚪🔴🔴🔴⚪⚪\\n🔵⚪🔵🔴🔵⚪⚪\\n🔴🔴🔵🔵🔵⚪...</td>\n",
       "      <td>vico</td>\n",
       "    </tr>\n",
       "    <tr>\n",
       "      <th>2008</th>\n",
       "      <td>930804399303114752</td>\n",
       "      <td>2017-11-15 14:27:16</td>\n",
       "      <td>0</td>\n",
       "      <td>0</td>\n",
       "      <td>@JasmineAlmira ⚪⚪⚪⚪⚪⚪⚪\\n⚪⚪⚪⚪⚪⚪⚪\\n⚪⚪⚪⚪⚪⚪⚪\\n⚪⚪⚪⚪...</td>\n",
       "      <td>vico</td>\n",
       "    </tr>\n",
       "    <tr>\n",
       "      <th>2009</th>\n",
       "      <td>930804061279940609</td>\n",
       "      <td>2017-11-15 14:25:56</td>\n",
       "      <td>0</td>\n",
       "      <td>0</td>\n",
       "      <td>@iMarkTiczon ⚪⚪⚪⚪⚪⚪⚪\\n🔴⚪🔴🔴🔴⚪⚪\\n🔵⚪🔵🔴🔵⚪⚪\\n🔴🔴🔵🔵🔵⚪...</td>\n",
       "      <td>vico</td>\n",
       "    </tr>\n",
       "    <tr>\n",
       "      <th>2010</th>\n",
       "      <td>930802867056787456</td>\n",
       "      <td>2017-11-15 14:21:11</td>\n",
       "      <td>1</td>\n",
       "      <td>0</td>\n",
       "      <td>@iMarkTiczon ⚪⚪⚪⚪⚪⚪⚪\\n🔴⚪🔴🔴🔴⚪⚪\\n🔵⚪🔵🔴🔵⚪⚪\\n🔴⚪🔵🔵🔵⚪...</td>\n",
       "      <td>vico</td>\n",
       "    </tr>\n",
       "    <tr>\n",
       "      <th>2011</th>\n",
       "      <td>930802079907508224</td>\n",
       "      <td>2017-11-15 14:18:03</td>\n",
       "      <td>0</td>\n",
       "      <td>0</td>\n",
       "      <td>@iMarkTiczon ⚪⚪⚪⚪⚪⚪⚪\\n⚪⚪🔴🔴🔴⚪⚪\\n⚪⚪🔵🔴🔵⚪⚪\\n🔴⚪🔵🔵🔵⚪...</td>\n",
       "      <td>vico</td>\n",
       "    </tr>\n",
       "    <tr>\n",
       "      <th>2012</th>\n",
       "      <td>930801343534546944</td>\n",
       "      <td>2017-11-15 14:15:08</td>\n",
       "      <td>0</td>\n",
       "      <td>0</td>\n",
       "      <td>@iMarkTiczon ⚪⚪⚪⚪⚪⚪⚪\\n⚪⚪🔴🔴🔴⚪⚪\\n⚪⚪🔵🔴🔵⚪⚪\\n⚪⚪🔵🔵🔵⚪...</td>\n",
       "      <td>vico</td>\n",
       "    </tr>\n",
       "    <tr>\n",
       "      <th>2013</th>\n",
       "      <td>930800465050079232</td>\n",
       "      <td>2017-11-15 14:11:38</td>\n",
       "      <td>0</td>\n",
       "      <td>0</td>\n",
       "      <td>@JasmineAlmira ⚪⚪⚪⚪⚪⚪⚪\\n⚪⚪⚪⚪⚪⚪⚪\\n⚪⚪⚪⚪⚪⚪⚪\\n⚪⚪⚪⚪...</td>\n",
       "      <td>vico</td>\n",
       "    </tr>\n",
       "    <tr>\n",
       "      <th>2014</th>\n",
       "      <td>930800230408249344</td>\n",
       "      <td>2017-11-15 14:10:43</td>\n",
       "      <td>0</td>\n",
       "      <td>0</td>\n",
       "      <td>@iMarkTiczon ⚪⚪⚪⚪⚪⚪⚪\\n⚪⚪🔴🔴⚪⚪⚪\\n⚪⚪🔵🔴🔵⚪⚪\\n⚪⚪🔵🔵🔵⚪...</td>\n",
       "      <td>vico</td>\n",
       "    </tr>\n",
       "    <tr>\n",
       "      <th>2015</th>\n",
       "      <td>930799404738416640</td>\n",
       "      <td>2017-11-15 14:07:26</td>\n",
       "      <td>0</td>\n",
       "      <td>0</td>\n",
       "      <td>@JasmineAlmira ⚪⚪⚪⚪⚪⚪⚪\\n⚪⚪⚪⚪⚪⚪⚪\\n⚪⚪⚪⚪⚪⚪⚪\\n⚪⚪⚪⚪...</td>\n",
       "      <td>vico</td>\n",
       "    </tr>\n",
       "    <tr>\n",
       "      <th>2016</th>\n",
       "      <td>930799283502116864</td>\n",
       "      <td>2017-11-15 14:06:57</td>\n",
       "      <td>0</td>\n",
       "      <td>0</td>\n",
       "      <td>@iMarkTiczon ⚪⚪⚪⚪⚪⚪⚪\\n⚪⚪🔴⚪⚪⚪⚪\\n⚪⚪🔵🔴🔵⚪⚪\\n⚪⚪🔵🔵🔵⚪...</td>\n",
       "      <td>vico</td>\n",
       "    </tr>\n",
       "    <tr>\n",
       "      <th>2017</th>\n",
       "      <td>930798098531495936</td>\n",
       "      <td>2017-11-15 14:02:14</td>\n",
       "      <td>0</td>\n",
       "      <td>0</td>\n",
       "      <td>@iMarkTiczon ⚪⚪⚪⚪⚪⚪⚪\\n⚪⚪⚪⚪⚪⚪⚪\\n⚪⚪🔵🔴⚪⚪⚪\\n⚪⚪🔵🔵🔵⚪...</td>\n",
       "      <td>vico</td>\n",
       "    </tr>\n",
       "    <tr>\n",
       "      <th>2018</th>\n",
       "      <td>930797376402374657</td>\n",
       "      <td>2017-11-15 13:59:22</td>\n",
       "      <td>1</td>\n",
       "      <td>0</td>\n",
       "      <td>@iMarkTiczon ⚪⚪⚪⚪⚪⚪⚪\\n⚪⚪⚪⚪⚪⚪⚪\\n⚪⚪⚪🔴⚪⚪⚪\\n⚪⚪🔵🔵🔵⚪...</td>\n",
       "      <td>vico</td>\n",
       "    </tr>\n",
       "    <tr>\n",
       "      <th>2019</th>\n",
       "      <td>930796903226261504</td>\n",
       "      <td>2017-11-15 13:57:29</td>\n",
       "      <td>0</td>\n",
       "      <td>0</td>\n",
       "      <td>@iMarkTiczon ⚪⚪⚪⚪⚪⚪⚪\\n⚪⚪⚪⚪⚪⚪⚪\\n⚪⚪⚪⚪⚪⚪⚪\\n⚪⚪⚪🔵🔵⚪...</td>\n",
       "      <td>vico</td>\n",
       "    </tr>\n",
       "    <tr>\n",
       "      <th>2020</th>\n",
       "      <td>930796127976226816</td>\n",
       "      <td>2017-11-15 13:54:24</td>\n",
       "      <td>1</td>\n",
       "      <td>0</td>\n",
       "      <td>@iMarkTiczon ⚪⚪⚪⚪⚪⚪⚪\\n⚪⚪⚪⚪⚪⚪⚪\\n⚪⚪⚪⚪⚪⚪⚪\\n⚪⚪⚪🔵🔵⚪...</td>\n",
       "      <td>vico</td>\n",
       "    </tr>\n",
       "    <tr>\n",
       "      <th>2021</th>\n",
       "      <td>930795241271001089</td>\n",
       "      <td>2017-11-15 13:50:53</td>\n",
       "      <td>0</td>\n",
       "      <td>0</td>\n",
       "      <td>@iMarkTiczon ⚪⚪⚪⚪⚪⚪⚪\\n⚪⚪⚪⚪⚪⚪⚪\\n⚪⚪⚪⚪⚪⚪⚪\\n⚪⚪⚪🔵🔵⚪...</td>\n",
       "      <td>vico</td>\n",
       "    </tr>\n",
       "    <tr>\n",
       "      <th>2022</th>\n",
       "      <td>930794654081064961</td>\n",
       "      <td>2017-11-15 13:48:33</td>\n",
       "      <td>1</td>\n",
       "      <td>0</td>\n",
       "      <td>@iMarkTiczon ⚪⚪⚪⚪⚪⚪⚪\\n⚪⚪⚪⚪⚪⚪⚪\\n⚪⚪⚪⚪⚪⚪⚪\\n⚪⚪⚪🔵⚪⚪...</td>\n",
       "      <td>vico</td>\n",
       "    </tr>\n",
       "    <tr>\n",
       "      <th>2023</th>\n",
       "      <td>930794225788010496</td>\n",
       "      <td>2017-11-15 13:46:51</td>\n",
       "      <td>0</td>\n",
       "      <td>0</td>\n",
       "      <td>@iMarkTiczon @zamiel1i ⚪⚪⚪⚪⚪⚪⚪\\n⚪⚪⚪⚪⚪⚪⚪\\n⚪⚪⚪⚪⚪...</td>\n",
       "      <td>vico</td>\n",
       "    </tr>\n",
       "    <tr>\n",
       "      <th>2024</th>\n",
       "      <td>930793808765128704</td>\n",
       "      <td>2017-11-15 13:45:11</td>\n",
       "      <td>1</td>\n",
       "      <td>0</td>\n",
       "      <td>@iMarkTiczon @zamiel1i Game!\\n\\n⚪⚪⚪⚪⚪⚪⚪\\n⚪⚪⚪⚪⚪...</td>\n",
       "      <td>vico</td>\n",
       "    </tr>\n",
       "    <tr>\n",
       "      <th>2025</th>\n",
       "      <td>930793182878560256</td>\n",
       "      <td>2017-11-15 13:42:42</td>\n",
       "      <td>35</td>\n",
       "      <td>1</td>\n",
       "      <td>Who wants to play Connect Four with me right n...</td>\n",
       "      <td>vico</td>\n",
       "    </tr>\n",
       "  </tbody>\n",
       "</table>\n",
       "</div>"
      ],
      "text/plain": [
       "                      id           created_at  favorite_count  retweet_count  \\\n",
       "1999  930816026660368384  2017-11-15 15:13:29               5              0   \n",
       "2000  930813337666859008  2017-11-15 15:02:48              26              0   \n",
       "2001  930813128740298752  2017-11-15 15:01:58               2              0   \n",
       "2002  930808788277280769  2017-11-15 14:44:43               0              0   \n",
       "2003  930808309044486145  2017-11-15 14:42:49               0              0   \n",
       "2004  930807677705363457  2017-11-15 14:40:18               0              0   \n",
       "2005  930806637958283264  2017-11-15 14:36:10               2              1   \n",
       "2006  930805765681463297  2017-11-15 14:32:42               0              0   \n",
       "2007  930805553709723648  2017-11-15 14:31:52               0              0   \n",
       "2008  930804399303114752  2017-11-15 14:27:16               0              0   \n",
       "2009  930804061279940609  2017-11-15 14:25:56               0              0   \n",
       "2010  930802867056787456  2017-11-15 14:21:11               1              0   \n",
       "2011  930802079907508224  2017-11-15 14:18:03               0              0   \n",
       "2012  930801343534546944  2017-11-15 14:15:08               0              0   \n",
       "2013  930800465050079232  2017-11-15 14:11:38               0              0   \n",
       "2014  930800230408249344  2017-11-15 14:10:43               0              0   \n",
       "2015  930799404738416640  2017-11-15 14:07:26               0              0   \n",
       "2016  930799283502116864  2017-11-15 14:06:57               0              0   \n",
       "2017  930798098531495936  2017-11-15 14:02:14               0              0   \n",
       "2018  930797376402374657  2017-11-15 13:59:22               1              0   \n",
       "2019  930796903226261504  2017-11-15 13:57:29               0              0   \n",
       "2020  930796127976226816  2017-11-15 13:54:24               1              0   \n",
       "2021  930795241271001089  2017-11-15 13:50:53               0              0   \n",
       "2022  930794654081064961  2017-11-15 13:48:33               1              0   \n",
       "2023  930794225788010496  2017-11-15 13:46:51               0              0   \n",
       "2024  930793808765128704  2017-11-15 13:45:11               1              0   \n",
       "2025  930793182878560256  2017-11-15 13:42:42              35              1   \n",
       "\n",
       "                                                   text target  \n",
       "1999  @JasmineAlmira ⚪⚪⚪⚪⚪⚪⚪\\n⚪⚪⚪⚪⚪⚪⚪\\n⚪⚪⚪🔵❤️⚪⚪\\n⚪⚪⚪...   vico  \n",
       "2000          NO CHEATING NAMAN https://t.co/jpnDlC2unK   vico  \n",
       "2001  @JasmineAlmira ⚪⚪⚪⚪⚪⚪⚪\\n⚪⚪⚪⚪⚪⚪⚪\\n⚪⚪⚪🔵⚪⚪⚪\\n⚪⚪⚪🔴...   vico  \n",
       "2002  @JasmineAlmira ⚪⚪⚪⚪⚪⚪⚪\\n⚪⚪⚪⚪⚪⚪⚪\\n⚪⚪⚪⚪⚪⚪⚪\\n⚪⚪⚪🔴...   vico  \n",
       "2003  @JasmineAlmira ⚪⚪⚪⚪⚪⚪⚪\\n⚪⚪⚪⚪⚪⚪⚪\\n⚪⚪⚪⚪⚪⚪⚪\\n⚪⚪⚪⚪...   vico  \n",
       "2004  @JasmineAlmira ⚪⚪⚪⚪⚪⚪⚪\\n⚪⚪⚪⚪⚪⚪⚪\\n⚪⚪⚪⚪⚪⚪⚪\\n⚪⚪⚪⚪...   vico  \n",
       "2005  @iMarkTiczon 🔵⚪⚪🔴⚪⚪⚪&lt;\\n🔴⚪🔴🔴🔴⚪⚪&lt;\\n🔵🔴🔵🔴🔵⚪⚪...   vico  \n",
       "2006  @JasmineAlmira ⚪⚪⚪⚪⚪⚪⚪\\n⚪⚪⚪⚪⚪⚪⚪\\n⚪⚪⚪⚪⚪⚪⚪\\n⚪⚪⚪⚪...   vico  \n",
       "2007  @iMarkTiczon 🔵⚪⚪🔴⚪⚪⚪\\n🔴⚪🔴🔴🔴⚪⚪\\n🔵⚪🔵🔴🔵⚪⚪\\n🔴🔴🔵🔵🔵⚪...   vico  \n",
       "2008  @JasmineAlmira ⚪⚪⚪⚪⚪⚪⚪\\n⚪⚪⚪⚪⚪⚪⚪\\n⚪⚪⚪⚪⚪⚪⚪\\n⚪⚪⚪⚪...   vico  \n",
       "2009  @iMarkTiczon ⚪⚪⚪⚪⚪⚪⚪\\n🔴⚪🔴🔴🔴⚪⚪\\n🔵⚪🔵🔴🔵⚪⚪\\n🔴🔴🔵🔵🔵⚪...   vico  \n",
       "2010  @iMarkTiczon ⚪⚪⚪⚪⚪⚪⚪\\n🔴⚪🔴🔴🔴⚪⚪\\n🔵⚪🔵🔴🔵⚪⚪\\n🔴⚪🔵🔵🔵⚪...   vico  \n",
       "2011  @iMarkTiczon ⚪⚪⚪⚪⚪⚪⚪\\n⚪⚪🔴🔴🔴⚪⚪\\n⚪⚪🔵🔴🔵⚪⚪\\n🔴⚪🔵🔵🔵⚪...   vico  \n",
       "2012  @iMarkTiczon ⚪⚪⚪⚪⚪⚪⚪\\n⚪⚪🔴🔴🔴⚪⚪\\n⚪⚪🔵🔴🔵⚪⚪\\n⚪⚪🔵🔵🔵⚪...   vico  \n",
       "2013  @JasmineAlmira ⚪⚪⚪⚪⚪⚪⚪\\n⚪⚪⚪⚪⚪⚪⚪\\n⚪⚪⚪⚪⚪⚪⚪\\n⚪⚪⚪⚪...   vico  \n",
       "2014  @iMarkTiczon ⚪⚪⚪⚪⚪⚪⚪\\n⚪⚪🔴🔴⚪⚪⚪\\n⚪⚪🔵🔴🔵⚪⚪\\n⚪⚪🔵🔵🔵⚪...   vico  \n",
       "2015  @JasmineAlmira ⚪⚪⚪⚪⚪⚪⚪\\n⚪⚪⚪⚪⚪⚪⚪\\n⚪⚪⚪⚪⚪⚪⚪\\n⚪⚪⚪⚪...   vico  \n",
       "2016  @iMarkTiczon ⚪⚪⚪⚪⚪⚪⚪\\n⚪⚪🔴⚪⚪⚪⚪\\n⚪⚪🔵🔴🔵⚪⚪\\n⚪⚪🔵🔵🔵⚪...   vico  \n",
       "2017  @iMarkTiczon ⚪⚪⚪⚪⚪⚪⚪\\n⚪⚪⚪⚪⚪⚪⚪\\n⚪⚪🔵🔴⚪⚪⚪\\n⚪⚪🔵🔵🔵⚪...   vico  \n",
       "2018  @iMarkTiczon ⚪⚪⚪⚪⚪⚪⚪\\n⚪⚪⚪⚪⚪⚪⚪\\n⚪⚪⚪🔴⚪⚪⚪\\n⚪⚪🔵🔵🔵⚪...   vico  \n",
       "2019  @iMarkTiczon ⚪⚪⚪⚪⚪⚪⚪\\n⚪⚪⚪⚪⚪⚪⚪\\n⚪⚪⚪⚪⚪⚪⚪\\n⚪⚪⚪🔵🔵⚪...   vico  \n",
       "2020  @iMarkTiczon ⚪⚪⚪⚪⚪⚪⚪\\n⚪⚪⚪⚪⚪⚪⚪\\n⚪⚪⚪⚪⚪⚪⚪\\n⚪⚪⚪🔵🔵⚪...   vico  \n",
       "2021  @iMarkTiczon ⚪⚪⚪⚪⚪⚪⚪\\n⚪⚪⚪⚪⚪⚪⚪\\n⚪⚪⚪⚪⚪⚪⚪\\n⚪⚪⚪🔵🔵⚪...   vico  \n",
       "2022  @iMarkTiczon ⚪⚪⚪⚪⚪⚪⚪\\n⚪⚪⚪⚪⚪⚪⚪\\n⚪⚪⚪⚪⚪⚪⚪\\n⚪⚪⚪🔵⚪⚪...   vico  \n",
       "2023  @iMarkTiczon @zamiel1i ⚪⚪⚪⚪⚪⚪⚪\\n⚪⚪⚪⚪⚪⚪⚪\\n⚪⚪⚪⚪⚪...   vico  \n",
       "2024  @iMarkTiczon @zamiel1i Game!\\n\\n⚪⚪⚪⚪⚪⚪⚪\\n⚪⚪⚪⚪⚪...   vico  \n",
       "2025  Who wants to play Connect Four with me right n...   vico  "
      ]
     },
     "execution_count": 15,
     "metadata": {},
     "output_type": "execute_result"
    }
   ],
   "source": [
    "vico_tweets[(vico_tweets['created_at'].index.year == 2017) & (vico_tweets['created_at'].index.month == 11) & (vico_tweets['created_at'].index.day==15)]"
   ]
  },
  {
   "cell_type": "code",
   "execution_count": 16,
   "metadata": {},
   "outputs": [
    {
     "name": "stdout",
     "output_type": "stream",
     "text": [
      "@JasmineAlmira ⚪⚪⚪⚪⚪⚪⚪\n",
      "⚪⚪⚪⚪⚪⚪⚪\n",
      "⚪⚪⚪🔵⚪⚪⚪\n",
      "⚪⚪⚪🔴🔴⚪⚪\n",
      "⚪⚪🔴🔴🔵⚪⚪\n",
      "⚪🔴🔵🔵🔴🔵⚪\n",
      "⚪🔵🔴🔴🔴🔵🔵 https://t.co/GpBvfFee4P\n"
     ]
    }
   ],
   "source": [
    "print(vico_tweets.iloc[2001]['text'])"
   ]
  },
  {
   "cell_type": "markdown",
   "metadata": {},
   "source": [
    "**This was because he was playing Connect Four with @JasmineAlmira and @iMarkTiczon.**"
   ]
  },
  {
   "cell_type": "markdown",
   "metadata": {},
   "source": [
    "**Isko Moreno**"
   ]
  },
  {
   "cell_type": "code",
   "execution_count": 17,
   "metadata": {},
   "outputs": [
    {
     "name": "stdout",
     "output_type": "stream",
     "text": [
      "32\n",
      "2019-05-02 00:00:00\n"
     ]
    }
   ],
   "source": [
    "print(isko_tweet_counts[np.argmax(isko_tweet_counts)])\n",
    "print(isko_tweet_counts.index[np.argmax(isko_tweet_counts)])"
   ]
  },
  {
   "cell_type": "markdown",
   "metadata": {},
   "source": [
    "**Isko Moreno made 32 tweets on 2019, May 05.**"
   ]
  },
  {
   "cell_type": "code",
   "execution_count": 18,
   "metadata": {},
   "outputs": [
    {
     "data": {
      "text/html": [
       "<div>\n",
       "<style scoped>\n",
       "    .dataframe tbody tr th:only-of-type {\n",
       "        vertical-align: middle;\n",
       "    }\n",
       "\n",
       "    .dataframe tbody tr th {\n",
       "        vertical-align: top;\n",
       "    }\n",
       "\n",
       "    .dataframe thead th {\n",
       "        text-align: right;\n",
       "    }\n",
       "</style>\n",
       "<table border=\"1\" class=\"dataframe\">\n",
       "  <thead>\n",
       "    <tr style=\"text-align: right;\">\n",
       "      <th></th>\n",
       "      <th>id</th>\n",
       "      <th>created_at</th>\n",
       "      <th>favorite_count</th>\n",
       "      <th>retweet_count</th>\n",
       "      <th>text</th>\n",
       "      <th>target</th>\n",
       "    </tr>\n",
       "  </thead>\n",
       "  <tbody>\n",
       "    <tr>\n",
       "      <th>1718</th>\n",
       "      <td>1123890368309809152</td>\n",
       "      <td>2019-05-02 10:01:59</td>\n",
       "      <td>11</td>\n",
       "      <td>3</td>\n",
       "      <td>IN THE NEWS: Isko Moreno ibabalik ang metro ai...</td>\n",
       "      <td>isko</td>\n",
       "    </tr>\n",
       "    <tr>\n",
       "      <th>1719</th>\n",
       "      <td>1123890204052545536</td>\n",
       "      <td>2019-05-02 10:01:20</td>\n",
       "      <td>20</td>\n",
       "      <td>3</td>\n",
       "      <td>Bagong Maynila!\\n\\nIyan ang nais ng mga Batang...</td>\n",
       "      <td>isko</td>\n",
       "    </tr>\n",
       "    <tr>\n",
       "      <th>1720</th>\n",
       "      <td>1123852151325904896</td>\n",
       "      <td>2019-05-02 07:30:07</td>\n",
       "      <td>4</td>\n",
       "      <td>2</td>\n",
       "      <td>IN THE NEWS: For actor-turned-politician Franc...</td>\n",
       "      <td>isko</td>\n",
       "    </tr>\n",
       "    <tr>\n",
       "      <th>1721</th>\n",
       "      <td>1123851947054968832</td>\n",
       "      <td>2019-05-02 07:29:18</td>\n",
       "      <td>3</td>\n",
       "      <td>1</td>\n",
       "      <td>IN THE NEWS: Isko Moreno ibabalik ang metro ai...</td>\n",
       "      <td>isko</td>\n",
       "    </tr>\n",
       "    <tr>\n",
       "      <th>1722</th>\n",
       "      <td>1123851853467398144</td>\n",
       "      <td>2019-05-02 07:28:56</td>\n",
       "      <td>6</td>\n",
       "      <td>1</td>\n",
       "      <td>IN THE NEWS: ‘Real Manileño’ ready to reclaim ...</td>\n",
       "      <td>isko</td>\n",
       "    </tr>\n",
       "  </tbody>\n",
       "</table>\n",
       "</div>"
      ],
      "text/plain": [
       "                       id           created_at  favorite_count  retweet_count  \\\n",
       "1718  1123890368309809152  2019-05-02 10:01:59              11              3   \n",
       "1719  1123890204052545536  2019-05-02 10:01:20              20              3   \n",
       "1720  1123852151325904896  2019-05-02 07:30:07               4              2   \n",
       "1721  1123851947054968832  2019-05-02 07:29:18               3              1   \n",
       "1722  1123851853467398144  2019-05-02 07:28:56               6              1   \n",
       "\n",
       "                                                   text target  \n",
       "1718  IN THE NEWS: Isko Moreno ibabalik ang metro ai...   isko  \n",
       "1719  Bagong Maynila!\\n\\nIyan ang nais ng mga Batang...   isko  \n",
       "1720  IN THE NEWS: For actor-turned-politician Franc...   isko  \n",
       "1721  IN THE NEWS: Isko Moreno ibabalik ang metro ai...   isko  \n",
       "1722  IN THE NEWS: ‘Real Manileño’ ready to reclaim ...   isko  "
      ]
     },
     "execution_count": 18,
     "metadata": {},
     "output_type": "execute_result"
    }
   ],
   "source": [
    "isko_tweets[(isko_tweets['created_at'].index.year == 2019) & (isko_tweets['created_at'].index.month == 5) & (isko_tweets['created_at'].index.day==2)].head()"
   ]
  },
  {
   "cell_type": "code",
   "execution_count": 19,
   "metadata": {},
   "outputs": [
    {
     "name": "stdout",
     "output_type": "stream",
     "text": [
      "Walang ibang hangad ang Batang Maynila Isko Moreno Domagoso kasama ang buong Team Asenso Manileño kundi ang ikabubuti at ikauunlad ng pamumuhay ng bawat mamamayan ng Maynila kaya't patuloy pa rin ang pagbuhos ng suporta ng Distrito 5 at 6.\n",
      "\n",
      "#BatangMaynila\n",
      "#AsensoManileno https://t.co/FBrr5rgLrt\n",
      "__________________________________________________\n"
     ]
    }
   ],
   "source": [
    "print(isko_tweets.iloc[1716]['text'])\n",
    "print(\"_\"*50)"
   ]
  },
  {
   "cell_type": "markdown",
   "metadata": {},
   "source": [
    "**This was due to him retweeting news articles about his campaign promises.**"
   ]
  },
  {
   "cell_type": "markdown",
   "metadata": {},
   "source": [
    "### Preprocessing"
   ]
  },
  {
   "cell_type": "markdown",
   "metadata": {},
   "source": [
    "We will use the `text` column as the feature, and the `target` column as the target."
   ]
  },
  {
   "cell_type": "code",
   "execution_count": 20,
   "metadata": {},
   "outputs": [],
   "source": [
    "df_reduced = df[['text', 'target']]"
   ]
  },
  {
   "cell_type": "markdown",
   "metadata": {},
   "source": [
    "For preprocessing, we set the text to lowercase, remove stopwords, and tokenize."
   ]
  },
  {
   "cell_type": "code",
   "execution_count": 21,
   "metadata": {},
   "outputs": [],
   "source": [
    "# Filipino stopwords from: https://github.com/stopwords-iso/stopwords-tl\n",
    "with open(\"data/tl-stopwords.txt\") as f:\n",
    "    tl_stop = [s.strip() for s in f.readlines()]\n",
    "en_stop = stopwords.words(\"english\")\n",
    "en_tl_stop = tl_stop + en_stop"
   ]
  },
  {
   "cell_type": "code",
   "execution_count": 22,
   "metadata": {},
   "outputs": [],
   "source": [
    "def preprocess(text):\n",
    "    text=text.lower()\n",
    "    text=re.sub('[^0-9a-z]+',' ',text)\n",
    "    split = text.split()\n",
    "    stopped = [i for i in split if i not in en_tl_stop]\n",
    "    return(stopped)"
   ]
  },
  {
   "cell_type": "code",
   "execution_count": 23,
   "metadata": {},
   "outputs": [],
   "source": [
    "df_reduced['text'] = df_reduced['text'].apply(preprocess)"
   ]
  },
  {
   "cell_type": "code",
   "execution_count": 24,
   "metadata": {},
   "outputs": [
    {
     "data": {
      "text/html": [
       "<div>\n",
       "<style scoped>\n",
       "    .dataframe tbody tr th:only-of-type {\n",
       "        vertical-align: middle;\n",
       "    }\n",
       "\n",
       "    .dataframe tbody tr th {\n",
       "        vertical-align: top;\n",
       "    }\n",
       "\n",
       "    .dataframe thead th {\n",
       "        text-align: right;\n",
       "    }\n",
       "</style>\n",
       "<table border=\"1\" class=\"dataframe\">\n",
       "  <thead>\n",
       "    <tr style=\"text-align: right;\">\n",
       "      <th></th>\n",
       "      <th>text</th>\n",
       "      <th>target</th>\n",
       "    </tr>\n",
       "  </thead>\n",
       "  <tbody>\n",
       "    <tr>\n",
       "      <th>0</th>\n",
       "      <td>[risen, ngayong, araw, ika, 4, abril, pong, gu...</td>\n",
       "      <td>isko</td>\n",
       "    </tr>\n",
       "    <tr>\n",
       "      <th>1</th>\n",
       "      <td>[po, vaccination, sites, natin, bukas, april, ...</td>\n",
       "      <td>isko</td>\n",
       "    </tr>\n",
       "    <tr>\n",
       "      <th>2</th>\n",
       "      <td>[covid, 19, monitoring, latest, coronavirus, d...</td>\n",
       "      <td>isko</td>\n",
       "    </tr>\n",
       "    <tr>\n",
       "      <th>3</th>\n",
       "      <td>[sama, sama, po, nating, gunitain, ngayong, ar...</td>\n",
       "      <td>isko</td>\n",
       "    </tr>\n",
       "    <tr>\n",
       "      <th>4</th>\n",
       "      <td>[covid, 19, monitoring, latest, coronavirus, d...</td>\n",
       "      <td>isko</td>\n",
       "    </tr>\n",
       "    <tr>\n",
       "      <th>...</th>\n",
       "      <td>...</td>\n",
       "      <td>...</td>\n",
       "    </tr>\n",
       "    <tr>\n",
       "      <th>4846</th>\n",
       "      <td>[mcrosalie, 716, hmm, babae, si, ate, mons, haha]</td>\n",
       "      <td>vico</td>\n",
       "    </tr>\n",
       "    <tr>\n",
       "      <th>4847</th>\n",
       "      <td>[marieten09, first]</td>\n",
       "      <td>vico</td>\n",
       "    </tr>\n",
       "    <tr>\n",
       "      <th>4848</th>\n",
       "      <td>[24cheanne, hi, lang]</td>\n",
       "      <td>vico</td>\n",
       "    </tr>\n",
       "    <tr>\n",
       "      <th>4849</th>\n",
       "      <td>[msaflowering, happy, valentine, day]</td>\n",
       "      <td>vico</td>\n",
       "    </tr>\n",
       "    <tr>\n",
       "      <th>4850</th>\n",
       "      <td>[jgh, fr, valentines, date, talakayan, kasama,...</td>\n",
       "      <td>vico</td>\n",
       "    </tr>\n",
       "  </tbody>\n",
       "</table>\n",
       "<p>4851 rows × 2 columns</p>\n",
       "</div>"
      ],
      "text/plain": [
       "                                                   text target\n",
       "0     [risen, ngayong, araw, ika, 4, abril, pong, gu...   isko\n",
       "1     [po, vaccination, sites, natin, bukas, april, ...   isko\n",
       "2     [covid, 19, monitoring, latest, coronavirus, d...   isko\n",
       "3     [sama, sama, po, nating, gunitain, ngayong, ar...   isko\n",
       "4     [covid, 19, monitoring, latest, coronavirus, d...   isko\n",
       "...                                                 ...    ...\n",
       "4846  [mcrosalie, 716, hmm, babae, si, ate, mons, haha]   vico\n",
       "4847                                [marieten09, first]   vico\n",
       "4848                              [24cheanne, hi, lang]   vico\n",
       "4849              [msaflowering, happy, valentine, day]   vico\n",
       "4850  [jgh, fr, valentines, date, talakayan, kasama,...   vico\n",
       "\n",
       "[4851 rows x 2 columns]"
      ]
     },
     "execution_count": 24,
     "metadata": {},
     "output_type": "execute_result"
    }
   ],
   "source": [
    "df_reduced"
   ]
  },
  {
   "cell_type": "markdown",
   "metadata": {},
   "source": [
    "Since we only have two targets, we convert the `target` column to binary.\n",
    "- 0 = vico\n",
    "- 1 = isko"
   ]
  },
  {
   "cell_type": "code",
   "execution_count": 25,
   "metadata": {},
   "outputs": [],
   "source": [
    "df_reduced['target'] = df_reduced['target'].apply(lambda x: 0 if x==\"vico\" else 1)"
   ]
  },
  {
   "cell_type": "code",
   "execution_count": 26,
   "metadata": {},
   "outputs": [
    {
     "data": {
      "text/html": [
       "<div>\n",
       "<style scoped>\n",
       "    .dataframe tbody tr th:only-of-type {\n",
       "        vertical-align: middle;\n",
       "    }\n",
       "\n",
       "    .dataframe tbody tr th {\n",
       "        vertical-align: top;\n",
       "    }\n",
       "\n",
       "    .dataframe thead th {\n",
       "        text-align: right;\n",
       "    }\n",
       "</style>\n",
       "<table border=\"1\" class=\"dataframe\">\n",
       "  <thead>\n",
       "    <tr style=\"text-align: right;\">\n",
       "      <th></th>\n",
       "      <th>text</th>\n",
       "      <th>target</th>\n",
       "    </tr>\n",
       "  </thead>\n",
       "  <tbody>\n",
       "    <tr>\n",
       "      <th>0</th>\n",
       "      <td>[risen, ngayong, araw, ika, 4, abril, pong, gu...</td>\n",
       "      <td>1</td>\n",
       "    </tr>\n",
       "    <tr>\n",
       "      <th>1</th>\n",
       "      <td>[po, vaccination, sites, natin, bukas, april, ...</td>\n",
       "      <td>1</td>\n",
       "    </tr>\n",
       "    <tr>\n",
       "      <th>2</th>\n",
       "      <td>[covid, 19, monitoring, latest, coronavirus, d...</td>\n",
       "      <td>1</td>\n",
       "    </tr>\n",
       "    <tr>\n",
       "      <th>3</th>\n",
       "      <td>[sama, sama, po, nating, gunitain, ngayong, ar...</td>\n",
       "      <td>1</td>\n",
       "    </tr>\n",
       "    <tr>\n",
       "      <th>4</th>\n",
       "      <td>[covid, 19, monitoring, latest, coronavirus, d...</td>\n",
       "      <td>1</td>\n",
       "    </tr>\n",
       "    <tr>\n",
       "      <th>...</th>\n",
       "      <td>...</td>\n",
       "      <td>...</td>\n",
       "    </tr>\n",
       "    <tr>\n",
       "      <th>4846</th>\n",
       "      <td>[mcrosalie, 716, hmm, babae, si, ate, mons, haha]</td>\n",
       "      <td>0</td>\n",
       "    </tr>\n",
       "    <tr>\n",
       "      <th>4847</th>\n",
       "      <td>[marieten09, first]</td>\n",
       "      <td>0</td>\n",
       "    </tr>\n",
       "    <tr>\n",
       "      <th>4848</th>\n",
       "      <td>[24cheanne, hi, lang]</td>\n",
       "      <td>0</td>\n",
       "    </tr>\n",
       "    <tr>\n",
       "      <th>4849</th>\n",
       "      <td>[msaflowering, happy, valentine, day]</td>\n",
       "      <td>0</td>\n",
       "    </tr>\n",
       "    <tr>\n",
       "      <th>4850</th>\n",
       "      <td>[jgh, fr, valentines, date, talakayan, kasama,...</td>\n",
       "      <td>0</td>\n",
       "    </tr>\n",
       "  </tbody>\n",
       "</table>\n",
       "<p>4851 rows × 2 columns</p>\n",
       "</div>"
      ],
      "text/plain": [
       "                                                   text  target\n",
       "0     [risen, ngayong, araw, ika, 4, abril, pong, gu...       1\n",
       "1     [po, vaccination, sites, natin, bukas, april, ...       1\n",
       "2     [covid, 19, monitoring, latest, coronavirus, d...       1\n",
       "3     [sama, sama, po, nating, gunitain, ngayong, ar...       1\n",
       "4     [covid, 19, monitoring, latest, coronavirus, d...       1\n",
       "...                                                 ...     ...\n",
       "4846  [mcrosalie, 716, hmm, babae, si, ate, mons, haha]       0\n",
       "4847                                [marieten09, first]       0\n",
       "4848                              [24cheanne, hi, lang]       0\n",
       "4849              [msaflowering, happy, valentine, day]       0\n",
       "4850  [jgh, fr, valentines, date, talakayan, kasama,...       0\n",
       "\n",
       "[4851 rows x 2 columns]"
      ]
     },
     "execution_count": 26,
     "metadata": {},
     "output_type": "execute_result"
    }
   ],
   "source": [
    "df_reduced"
   ]
  },
  {
   "cell_type": "markdown",
   "metadata": {},
   "source": [
    "### Generate word embeddings with Word2Vec\n",
    "\n",
    "We will the use the average word embedding for each tweet as our feature."
   ]
  },
  {
   "cell_type": "code",
   "execution_count": 27,
   "metadata": {},
   "outputs": [],
   "source": [
    "model = Word2Vec(vector_size=100,window=5,min_count=30, sg=0, alpha = 0.025)\n",
    "model.build_vocab(df_reduced['text'])"
   ]
  },
  {
   "cell_type": "code",
   "execution_count": 28,
   "metadata": {},
   "outputs": [
    {
     "data": {
      "text/plain": [
       "(497875, 1709760)"
      ]
     },
     "execution_count": 28,
     "metadata": {},
     "output_type": "execute_result"
    }
   ],
   "source": [
    "model.train(df_reduced['text'], total_examples=model.corpus_count, epochs=20)"
   ]
  },
  {
   "cell_type": "code",
   "execution_count": 29,
   "metadata": {},
   "outputs": [
    {
     "data": {
      "text/plain": [
       "['co',\n",
       " 'https',\n",
       " 'po',\n",
       " 'manila',\n",
       " 'city',\n",
       " 'natin',\n",
       " 'pasig',\n",
       " 'lang',\n",
       " 'maynila',\n",
       " 'covid']"
      ]
     },
     "execution_count": 29,
     "metadata": {},
     "output_type": "execute_result"
    }
   ],
   "source": [
    "model.wv.index_to_key[:10]"
   ]
  },
  {
   "cell_type": "code",
   "execution_count": 30,
   "metadata": {},
   "outputs": [
    {
     "data": {
      "text/plain": [
       "[('19', 0.8343752026557922),\n",
       " ('update', 0.7927007675170898),\n",
       " ('monitoring', 0.7802563905715942),\n",
       " ('swab', 0.7533193826675415),\n",
       " ('mass', 0.7338048815727234),\n",
       " ('center', 0.7173777222633362),\n",
       " ('testing', 0.7141691446304321),\n",
       " ('latest', 0.7094623446464539),\n",
       " ('cases', 0.7046419978141785),\n",
       " ('response', 0.6971128582954407)]"
      ]
     },
     "execution_count": 30,
     "metadata": {},
     "output_type": "execute_result"
    }
   ],
   "source": [
    "model.wv.most_similar('covid')"
   ]
  },
  {
   "cell_type": "markdown",
   "metadata": {},
   "source": [
    "### Get average word embedding"
   ]
  },
  {
   "cell_type": "code",
   "execution_count": 31,
   "metadata": {},
   "outputs": [],
   "source": [
    "def get_avg_vec(word_list, model):\n",
    "    words = [word for word in word_list if word in model.wv]\n",
    "    if len(words) > 0:\n",
    "        res = np.mean(model.wv[words], axis=0)\n",
    "    else:\n",
    "        res = np.zeros(model.vector_size)\n",
    "    return res    "
   ]
  },
  {
   "cell_type": "code",
   "execution_count": 32,
   "metadata": {},
   "outputs": [],
   "source": [
    "df_reduced['avg_vec'] = df_reduced['text'].apply(get_avg_vec, model=model)"
   ]
  },
  {
   "cell_type": "code",
   "execution_count": 33,
   "metadata": {},
   "outputs": [
    {
     "data": {
      "text/html": [
       "<div>\n",
       "<style scoped>\n",
       "    .dataframe tbody tr th:only-of-type {\n",
       "        vertical-align: middle;\n",
       "    }\n",
       "\n",
       "    .dataframe tbody tr th {\n",
       "        vertical-align: top;\n",
       "    }\n",
       "\n",
       "    .dataframe thead th {\n",
       "        text-align: right;\n",
       "    }\n",
       "</style>\n",
       "<table border=\"1\" class=\"dataframe\">\n",
       "  <thead>\n",
       "    <tr style=\"text-align: right;\">\n",
       "      <th></th>\n",
       "      <th>text</th>\n",
       "      <th>target</th>\n",
       "      <th>avg_vec</th>\n",
       "    </tr>\n",
       "  </thead>\n",
       "  <tbody>\n",
       "    <tr>\n",
       "      <th>0</th>\n",
       "      <td>[risen, ngayong, araw, ika, 4, abril, pong, gu...</td>\n",
       "      <td>1</td>\n",
       "      <td>[-0.5534315, 0.054501303, -0.051558938, 0.3771...</td>\n",
       "    </tr>\n",
       "    <tr>\n",
       "      <th>1</th>\n",
       "      <td>[po, vaccination, sites, natin, bukas, april, ...</td>\n",
       "      <td>1</td>\n",
       "      <td>[-0.30520192, 0.09016193, 0.1442648, 0.3332809...</td>\n",
       "    </tr>\n",
       "    <tr>\n",
       "      <th>2</th>\n",
       "      <td>[covid, 19, monitoring, latest, coronavirus, d...</td>\n",
       "      <td>1</td>\n",
       "      <td>[-0.13118148, 0.2210957, 0.46720263, 0.4505083...</td>\n",
       "    </tr>\n",
       "    <tr>\n",
       "      <th>3</th>\n",
       "      <td>[sama, sama, po, nating, gunitain, ngayong, ar...</td>\n",
       "      <td>1</td>\n",
       "      <td>[-0.62748444, -0.03803376, -0.083121836, 0.350...</td>\n",
       "    </tr>\n",
       "    <tr>\n",
       "      <th>4</th>\n",
       "      <td>[covid, 19, monitoring, latest, coronavirus, d...</td>\n",
       "      <td>1</td>\n",
       "      <td>[-0.13118148, 0.2210957, 0.46720263, 0.4505083...</td>\n",
       "    </tr>\n",
       "  </tbody>\n",
       "</table>\n",
       "</div>"
      ],
      "text/plain": [
       "                                                text  target  \\\n",
       "0  [risen, ngayong, araw, ika, 4, abril, pong, gu...       1   \n",
       "1  [po, vaccination, sites, natin, bukas, april, ...       1   \n",
       "2  [covid, 19, monitoring, latest, coronavirus, d...       1   \n",
       "3  [sama, sama, po, nating, gunitain, ngayong, ar...       1   \n",
       "4  [covid, 19, monitoring, latest, coronavirus, d...       1   \n",
       "\n",
       "                                             avg_vec  \n",
       "0  [-0.5534315, 0.054501303, -0.051558938, 0.3771...  \n",
       "1  [-0.30520192, 0.09016193, 0.1442648, 0.3332809...  \n",
       "2  [-0.13118148, 0.2210957, 0.46720263, 0.4505083...  \n",
       "3  [-0.62748444, -0.03803376, -0.083121836, 0.350...  \n",
       "4  [-0.13118148, 0.2210957, 0.46720263, 0.4505083...  "
      ]
     },
     "execution_count": 33,
     "metadata": {},
     "output_type": "execute_result"
    }
   ],
   "source": [
    "df_reduced.head()"
   ]
  },
  {
   "cell_type": "markdown",
   "metadata": {},
   "source": [
    "We can remove the `text` column now."
   ]
  },
  {
   "cell_type": "code",
   "execution_count": 34,
   "metadata": {},
   "outputs": [],
   "source": [
    "df_reduced = df_reduced[['avg_vec', 'target']]"
   ]
  },
  {
   "cell_type": "markdown",
   "metadata": {},
   "source": [
    "### Split into Train and Test Sets"
   ]
  },
  {
   "cell_type": "code",
   "execution_count": 35,
   "metadata": {},
   "outputs": [],
   "source": [
    "train_set, test_set = train_test_split(df_reduced, train_size=0.8, random_state=SEED)\n",
    "X_train, y_train = train_set['avg_vec'].values, train_set['target'].values\n",
    "X_test, y_test = test_set['avg_vec'].values, test_set['target'].values"
   ]
  },
  {
   "cell_type": "code",
   "execution_count": 36,
   "metadata": {},
   "outputs": [
    {
     "name": "stdout",
     "output_type": "stream",
     "text": [
      "(3880,)\n",
      "(3880,)\n",
      "(971,)\n",
      "(971,)\n"
     ]
    }
   ],
   "source": [
    "print(X_train.shape)\n",
    "print(y_train.shape)\n",
    "print(X_test.shape)\n",
    "print(y_test.shape)"
   ]
  },
  {
   "cell_type": "markdown",
   "metadata": {},
   "source": [
    "Convert from 1d array of arrays to 2d matrix:"
   ]
  },
  {
   "cell_type": "code",
   "execution_count": 37,
   "metadata": {},
   "outputs": [
    {
     "name": "stdout",
     "output_type": "stream",
     "text": [
      "(3880, 100)\n",
      "(971, 100)\n"
     ]
    }
   ],
   "source": [
    "X_train = np.concatenate(X_train, axis=0).reshape(-1, 100)\n",
    "X_test = np.concatenate(X_test, axis=0).reshape(-1, 100)\n",
    "\n",
    "print(X_train.shape)\n",
    "print(X_test.shape)"
   ]
  },
  {
   "cell_type": "markdown",
   "metadata": {},
   "source": [
    "# Model Training and Evaluation\n",
    "\n",
    "**We will use `LogisticRegression` and the `predict_proba` method to find the highest and lowest probability tweets by each person (in the test set).**"
   ]
  },
  {
   "cell_type": "code",
   "execution_count": 38,
   "metadata": {
    "tags": []
   },
   "outputs": [
    {
     "data": {
      "text/plain": [
       "LogisticRegression()"
      ]
     },
     "execution_count": 38,
     "metadata": {},
     "output_type": "execute_result"
    }
   ],
   "source": [
    "logreg = LogisticRegression()\n",
    "logreg.fit(X_train, y_train)"
   ]
  },
  {
   "cell_type": "code",
   "execution_count": 39,
   "metadata": {},
   "outputs": [
    {
     "data": {
      "text/plain": [
       "0    607\n",
       "1    364\n",
       "dtype: int64"
      ]
     },
     "execution_count": 39,
     "metadata": {},
     "output_type": "execute_result"
    }
   ],
   "source": [
    "pred = logreg.predict(X_test)\n",
    "pd.Series(pred).value_counts()"
   ]
  },
  {
   "cell_type": "code",
   "execution_count": 40,
   "metadata": {},
   "outputs": [
    {
     "data": {
      "text/plain": [
       "0.8692070030895983"
      ]
     },
     "execution_count": 40,
     "metadata": {},
     "output_type": "execute_result"
    }
   ],
   "source": [
    "sum(pred == np.array(y_test)) / len(y_test)"
   ]
  },
  {
   "cell_type": "markdown",
   "metadata": {},
   "source": [
    "**The model can classify tweets with an accuracy of $\\approx 87\\%$. (correct predictions / total predictions)**"
   ]
  },
  {
   "cell_type": "code",
   "execution_count": 41,
   "metadata": {},
   "outputs": [
    {
     "data": {
      "text/plain": [
       "array([0, 1])"
      ]
     },
     "execution_count": 41,
     "metadata": {},
     "output_type": "execute_result"
    }
   ],
   "source": [
    "logreg.classes_"
   ]
  },
  {
   "cell_type": "markdown",
   "metadata": {},
   "source": [
    "Note that: 0=vico, 1=isko"
   ]
  },
  {
   "cell_type": "code",
   "execution_count": 42,
   "metadata": {},
   "outputs": [],
   "source": [
    "pred = logreg.predict_proba(X_test)\n",
    "vico_probas = pd.Series(pred[:, 0])\n",
    "isko_probas = pd.Series(pred[:, 1])"
   ]
  },
  {
   "cell_type": "code",
   "execution_count": 43,
   "metadata": {},
   "outputs": [],
   "source": [
    "# Probability that tweets made by Isko were made by Isko\n",
    "isko_ground_truth_probas = isko_probas[y_test.astype(np.bool)]\n",
    "\n",
    "# Probability that tweets made by Vico were made by Vico\n",
    "vico_ground_truth_probas = vico_probas[~y_test.astype(np.bool)]"
   ]
  },
  {
   "cell_type": "markdown",
   "metadata": {},
   "source": [
    "### Highest Probability Isko Moreno tweet"
   ]
  },
  {
   "cell_type": "code",
   "execution_count": 44,
   "metadata": {},
   "outputs": [
    {
     "name": "stdout",
     "output_type": "stream",
     "text": [
      "Tara na mga Batang Maynila tungo sa Bagong Maynila!\n",
      "\n",
      "#BatangMaynila #AsensoManileno 🇵🇭\n"
     ]
    }
   ],
   "source": [
    "print(df.iloc[test_set.index[isko_ground_truth_probas.idxmax()]]['text'])"
   ]
  },
  {
   "cell_type": "code",
   "execution_count": 45,
   "metadata": {},
   "outputs": [
    {
     "name": "stdout",
     "output_type": "stream",
     "text": [
      "Probability: 0.9999921816907669\n"
     ]
    }
   ],
   "source": [
    "print(f\"Probability: {isko_ground_truth_probas.max()}\")"
   ]
  },
  {
   "cell_type": "code",
   "execution_count": 46,
   "metadata": {},
   "outputs": [
    {
     "data": {
      "text/html": [
       "<blockquote class=\"twitter-tweet\"><p lang=\"tl\" dir=\"ltr\">Tara na mga Batang Maynila tungo sa Bagong Maynila!<a href=\"https://twitter.com/hashtag/BatangMaynila?src=hash&amp;ref_src=twsrc%5Etfw\">#BatangMaynila</a> <a href=\"https://twitter.com/hashtag/AsensoManileno?src=hash&amp;ref_src=twsrc%5Etfw\">#AsensoManileno</a> 🇵🇭</p>&mdash; Isko Moreno Domagoso (@IskoMoreno) <a href=\"https://twitter.com/IskoMoreno/status/1113296666788945922?ref_src=twsrc%5Etfw\">April 3, 2019</a></blockquote> <script async src=\"https://platform.twitter.com/widgets.js\" charset=\"utf-8\"></script>\n"
      ],
      "text/plain": [
       "<IPython.core.display.HTML object>"
      ]
     },
     "metadata": {},
     "output_type": "display_data"
    }
   ],
   "source": [
    "%%html\n",
    "<blockquote class=\"twitter-tweet\"><p lang=\"tl\" dir=\"ltr\">Tara na mga Batang Maynila tungo sa Bagong Maynila!<a href=\"https://twitter.com/hashtag/BatangMaynila?src=hash&amp;ref_src=twsrc%5Etfw\">#BatangMaynila</a> <a href=\"https://twitter.com/hashtag/AsensoManileno?src=hash&amp;ref_src=twsrc%5Etfw\">#AsensoManileno</a> 🇵🇭</p>&mdash; Isko Moreno Domagoso (@IskoMoreno) <a href=\"https://twitter.com/IskoMoreno/status/1113296666788945922?ref_src=twsrc%5Etfw\">April 3, 2019</a></blockquote> <script async src=\"https://platform.twitter.com/widgets.js\" charset=\"utf-8\"></script>"
   ]
  },
  {
   "cell_type": "markdown",
   "metadata": {},
   "source": [
    "### Lowest Probability Isko Moreno Tweet"
   ]
  },
  {
   "cell_type": "code",
   "execution_count": 47,
   "metadata": {},
   "outputs": [
    {
     "name": "stdout",
     "output_type": "stream",
     "text": [
      "Para maipakita naming mga taong gobyerno na seryoso kami sa bakuna, ituturok muna namin sa sarili namin ang bakuna, mapanatag lang ang inyong kalooban kapag nakita niyong itinurok na.\n",
      "\n",
      "Ang pangamba ng tao ay kinokompronta ng mga lider, dahil ang lider ay sinusunod ng tao.\n"
     ]
    }
   ],
   "source": [
    "print(df.iloc[test_set.index[isko_ground_truth_probas.idxmin()]]['text'])"
   ]
  },
  {
   "cell_type": "code",
   "execution_count": 48,
   "metadata": {},
   "outputs": [
    {
     "name": "stdout",
     "output_type": "stream",
     "text": [
      "Probability: 0.001987165069589502\n"
     ]
    }
   ],
   "source": [
    "print(f\"Probability: {isko_ground_truth_probas.min()}\")"
   ]
  },
  {
   "cell_type": "code",
   "execution_count": 49,
   "metadata": {},
   "outputs": [
    {
     "data": {
      "text/html": [
       "<blockquote class=\"twitter-tweet\"><p lang=\"tl\" dir=\"ltr\">Para maipakita naming mga taong gobyerno na seryoso kami sa bakuna, ituturok muna namin sa sarili namin ang bakuna, mapanatag lang ang inyong kalooban kapag nakita niyong itinurok na.<br><br>Ang pangamba ng tao ay kinokompronta ng mga lider, dahil ang lider ay sinusunod ng tao.</p>&mdash; Isko Moreno Domagoso (@IskoMoreno) <a href=\"https://twitter.com/IskoMoreno/status/1357287305577340928?ref_src=twsrc%5Etfw\">February 4, 2021</a></blockquote> <script async src=\"https://platform.twitter.com/widgets.js\" charset=\"utf-8\"></script>\n"
      ],
      "text/plain": [
       "<IPython.core.display.HTML object>"
      ]
     },
     "metadata": {},
     "output_type": "display_data"
    }
   ],
   "source": [
    "%%html\n",
    "<blockquote class=\"twitter-tweet\"><p lang=\"tl\" dir=\"ltr\">Para maipakita naming mga taong gobyerno na seryoso kami sa bakuna, ituturok muna namin sa sarili namin ang bakuna, mapanatag lang ang inyong kalooban kapag nakita niyong itinurok na.<br><br>Ang pangamba ng tao ay kinokompronta ng mga lider, dahil ang lider ay sinusunod ng tao.</p>&mdash; Isko Moreno Domagoso (@IskoMoreno) <a href=\"https://twitter.com/IskoMoreno/status/1357287305577340928?ref_src=twsrc%5Etfw\">February 4, 2021</a></blockquote> <script async src=\"https://platform.twitter.com/widgets.js\" charset=\"utf-8\"></script>"
   ]
  },
  {
   "cell_type": "markdown",
   "metadata": {},
   "source": [
    "### Highest Probability Vico Sotto tweet:"
   ]
  },
  {
   "cell_type": "code",
   "execution_count": 50,
   "metadata": {},
   "outputs": [
    {
     "data": {
      "text/plain": [
       "'@iamsect Bakit sila defensive? Yung tanong, tungkol SA AKIN at yung sagot ko TUNGKOL DIN SA AKIN.'"
      ]
     },
     "execution_count": 50,
     "metadata": {},
     "output_type": "execute_result"
    }
   ],
   "source": [
    "df.iloc[test_set.index[vico_ground_truth_probas.idxmax()]]['text']"
   ]
  },
  {
   "cell_type": "code",
   "execution_count": 51,
   "metadata": {},
   "outputs": [
    {
     "name": "stdout",
     "output_type": "stream",
     "text": [
      "Probability: 0.9998517154780365\n"
     ]
    }
   ],
   "source": [
    "print(f\"Probability: {vico_ground_truth_probas.max()}\")"
   ]
  },
  {
   "cell_type": "code",
   "execution_count": 52,
   "metadata": {},
   "outputs": [
    {
     "data": {
      "text/html": [
       "<blockquote class=\"twitter-tweet\"><p lang=\"tl\" dir=\"ltr\">Bakit sila defensive? Yung tanong, tungkol SA AKIN at yung sagot ko TUNGKOL DIN SA AKIN.</p>&mdash; Vico Sotto (@VicoSotto) <a href=\"https://twitter.com/VicoSotto/status/1271241358930374656?ref_src=twsrc%5Etfw\">June 12, 2020</a></blockquote> <script async src=\"https://platform.twitter.com/widgets.js\" charset=\"utf-8\"></script>\n"
      ],
      "text/plain": [
       "<IPython.core.display.HTML object>"
      ]
     },
     "metadata": {},
     "output_type": "display_data"
    }
   ],
   "source": [
    "%%html\n",
    "<blockquote class=\"twitter-tweet\"><p lang=\"tl\" dir=\"ltr\">Bakit sila defensive? Yung tanong, tungkol SA AKIN at yung sagot ko TUNGKOL DIN SA AKIN.</p>&mdash; Vico Sotto (@VicoSotto) <a href=\"https://twitter.com/VicoSotto/status/1271241358930374656?ref_src=twsrc%5Etfw\">June 12, 2020</a></blockquote> <script async src=\"https://platform.twitter.com/widgets.js\" charset=\"utf-8\"></script>"
   ]
  },
  {
   "cell_type": "markdown",
   "metadata": {},
   "source": [
    "### Lowest Probability Vico Sotto tweet:"
   ]
  },
  {
   "cell_type": "code",
   "execution_count": 53,
   "metadata": {},
   "outputs": [
    {
     "data": {
      "text/plain": [
       "'@marieten09 First'"
      ]
     },
     "execution_count": 53,
     "metadata": {},
     "output_type": "execute_result"
    }
   ],
   "source": [
    "df.iloc[test_set.index[vico_ground_truth_probas.idxmin()]]['text']"
   ]
  },
  {
   "cell_type": "code",
   "execution_count": 54,
   "metadata": {},
   "outputs": [
    {
     "name": "stdout",
     "output_type": "stream",
     "text": [
      "Probability: 0.0013427086456374582\n"
     ]
    }
   ],
   "source": [
    "print(f\"Probability: {vico_ground_truth_probas.min()}\")"
   ]
  },
  {
   "cell_type": "code",
   "execution_count": 55,
   "metadata": {},
   "outputs": [
    {
     "data": {
      "text/html": [
       "<blockquote class=\"twitter-tweet\"><p lang=\"en\" dir=\"ltr\"><a href=\"https://twitter.com/marieten09?ref_src=twsrc%5Etfw\">@marieten09</a> First</p>&mdash; Vico Sotto (@VicoSotto) <a href=\"https://twitter.com/VicoSotto/status/698851507060346880?ref_src=twsrc%5Etfw\">February 14, 2016</a></blockquote> <script async src=\"https://platform.twitter.com/widgets.js\" charset=\"utf-8\"></script>\n"
      ],
      "text/plain": [
       "<IPython.core.display.HTML object>"
      ]
     },
     "metadata": {},
     "output_type": "display_data"
    }
   ],
   "source": [
    "%%html\n",
    "<blockquote class=\"twitter-tweet\"><p lang=\"en\" dir=\"ltr\"><a href=\"https://twitter.com/marieten09?ref_src=twsrc%5Etfw\">@marieten09</a> First</p>&mdash; Vico Sotto (@VicoSotto) <a href=\"https://twitter.com/VicoSotto/status/698851507060346880?ref_src=twsrc%5Etfw\">February 14, 2016</a></blockquote> <script async src=\"https://platform.twitter.com/widgets.js\" charset=\"utf-8\"></script>"
   ]
  }
 ],
 "metadata": {
  "colab": {
   "name": "IskoVicoTweets.ipynb",
   "provenance": []
  },
  "kernelspec": {
   "display_name": "Python 3",
   "language": "python",
   "name": "python3"
  },
  "language_info": {
   "codemirror_mode": {
    "name": "ipython",
    "version": 3
   },
   "file_extension": ".py",
   "mimetype": "text/x-python",
   "name": "python",
   "nbconvert_exporter": "python",
   "pygments_lexer": "ipython3",
   "version": "3.8.5"
  }
 },
 "nbformat": 4,
 "nbformat_minor": 4
}
